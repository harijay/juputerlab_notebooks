{
 "cells": [
  {
   "cell_type": "markdown",
   "metadata": {},
   "source": [
    "# Endotoxin Calculations\n",
    "\n",
    "##### Interactively calculate the Endotoxin limits, MVD and MVC for a sample"
   ]
  },
  {
   "cell_type": "code",
   "execution_count": 43,
   "metadata": {},
   "outputs": [],
   "source": [
    "from __future__ import print_function\n",
    "from ipywidgets import interact, interactive, fixed, interact_manual\n",
    "import ipywidgets as widgets"
   ]
  },
  {
   "cell_type": "markdown",
   "metadata": {},
   "source": [
    "## Convert Endotoxin Limit from EU/mg to EU/ml"
   ]
  },
  {
   "cell_type": "code",
   "execution_count": 47,
   "metadata": {},
   "outputs": [
    {
     "data": {
      "application/vnd.jupyter.widget-view+json": {
       "model_id": "af1dc95b8fa24e9dbc23db3bb4389f99",
       "version_major": 2,
       "version_minor": 0
      },
      "text/plain": [
       "interactive(children=(FloatSlider(value=8.5, description='Prot (mg/ml)', max=30.0, min=0.5, step=0.5), FloatSl…"
      ]
     },
     "metadata": {},
     "output_type": "display_data"
    }
   ],
   "source": [
    "endotoxin_limit_in_eu_per_ml = None\n",
    "@interact(conc_protein_in_mg_per_ml=widgets.FloatSlider(min=0.5,max=30,step=0.5,value=8.5, description=\"Prot (mg/ml)\"),\n",
    "          endotoxin_limit_in_eu_per_mg=widgets.FloatSlider(min=0.01,max=40,step=0.01,value=0.01, description=\"EU/mg\"))\n",
    "def eu_per_ml(conc_protein_in_mg_per_ml, endotoxin_limit_in_eu_per_mg):\n",
    "    endotoxin_limit_in_eu_per_ml = conc_protein_in_mg_per_ml * endotoxin_limit_in_eu_per_mg\n",
    "    return 'Endotoxin limit in EU/ml is : {}'.format(endotoxin_limit_in_eu_per_ml)"
   ]
  },
  {
   "cell_type": "markdown",
   "metadata": {},
   "source": [
    "## Maximum Valid dilution, given lambda(λ) for a cartride, and Endotoxin threshold"
   ]
  },
  {
   "cell_type": "code",
   "execution_count": 52,
   "metadata": {},
   "outputs": [
    {
     "data": {
      "application/vnd.jupyter.widget-view+json": {
       "model_id": "e06ff53035a1408a984a0ba7e695d5dd",
       "version_major": 2,
       "version_minor": 0
      },
      "text/plain": [
       "interactive(children=(Dropdown(description='λ', index=3, options=(0.1, 0.05, 0.01, 0.005), value=0.005), Float…"
      ]
     },
     "metadata": {},
     "output_type": "display_data"
    }
   ],
   "source": [
    "@interact(sensitivity_lambda_eu_per_ml=widgets.Dropdown(\n",
    "    options=[0.1, 0.05, 0.01,0.005],\n",
    "    value=0.005,\n",
    "    description='λ',\n",
    "    disabled=False,\n",
    "),conc_protein_in_mg_per_ml=widgets.FloatSlider(min=0.5,max=40,step=0.5,value=8.5, description=\"Prot (mg/ml)\"),\\\n",
    "          endotoxin_limit_in_eu_per_mg=widgets.FloatSlider(min=0.01,max=20,step=0.01,value=0.01,description=\"EU/mg\"))\n",
    "def max_valid_dilution (sensitivity_lambda_eu_per_ml,conc_protein_in_mg_per_ml,endotoxin_limit_in_eu_per_mg):\n",
    "    endotoxin_limit_in_eu_per_ml = conc_protein_in_mg_per_ml * endotoxin_limit_in_eu_per_mg\n",
    "    maximum_valid_dilution = endotoxin_limit_in_eu_per_ml/sensitivity_lambda_eu_per_ml\n",
    "    return 'The Maximum Valid dilution of a {} mg/ml protein sample for an endotoxin limit of {} EU/mg({} EU/ml) is {}'.format(\n",
    "    str(conc_protein_in_mg_per_ml),str(endotoxin_limit_in_eu_per_mg),str(endotoxin_limit_in_eu_per_ml),str(maximum_valid_dilution))"
   ]
  },
  {
   "cell_type": "markdown",
   "metadata": {},
   "source": [
    "## Minimum valid concentration of stock for a particular endotoxin limit"
   ]
  },
  {
   "cell_type": "code",
   "execution_count": 53,
   "metadata": {},
   "outputs": [
    {
     "data": {
      "application/vnd.jupyter.widget-view+json": {
       "model_id": "18481098a32040288c65cea941c96df0",
       "version_major": 2,
       "version_minor": 0
      },
      "text/plain": [
       "interactive(children=(Dropdown(description='λ', index=3, options=(0.1, 0.05, 0.01, 0.005), value=0.005), Float…"
      ]
     },
     "metadata": {},
     "output_type": "display_data"
    }
   ],
   "source": [
    "@interact(sensitivity_lambda_eu_per_ml=widgets.Dropdown(\n",
    "    options=[0.1, 0.05, 0.01,0.005],\n",
    "    value=0.005,\n",
    "    description='λ',\n",
    "    disabled=False,\n",
    "),endotoxin_limit_in_eu_per_mg=widgets.FloatSlider(min=0.01,max=40,step=0.01,value=0.01,description=\"EU/mg\"))\n",
    "def minimum_valid_concentration(sensitivity_lambda_eu_per_ml,endotoxin_limit_in_eu_per_mg):\n",
    "    minimum_valid_conc_mg_per_ml = sensitivity_lambda_eu_per_ml/endotoxin_limit_in_eu_per_mg\n",
    "    return \"For a cartridge sensitivity {} EU/ml and an endotoxin limit of {} EU/mg the minimum valid concentration is {} mg/ml\".format(\n",
    "    sensitivity_lambda_eu_per_ml,endotoxin_limit_in_eu_per_mg,minimum_valid_conc_mg_per_ml)\n",
    "    "
   ]
  },
  {
   "cell_type": "code",
   "execution_count": null,
   "metadata": {},
   "outputs": [],
   "source": []
  }
 ],
 "metadata": {
  "kernelspec": {
   "display_name": "Python 3",
   "language": "python",
   "name": "python3"
  },
  "language_info": {
   "codemirror_mode": {
    "name": "ipython",
    "version": 3
   },
   "file_extension": ".py",
   "mimetype": "text/x-python",
   "name": "python",
   "nbconvert_exporter": "python",
   "pygments_lexer": "ipython3",
   "version": "3.7.0"
  }
 },
 "nbformat": 4,
 "nbformat_minor": 2
}
