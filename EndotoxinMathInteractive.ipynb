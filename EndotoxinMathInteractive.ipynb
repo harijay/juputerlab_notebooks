{
 "cells": [
  {
   "cell_type": "markdown",
   "metadata": {},
   "source": [
    "# Endotoxin Math\n",
    "\n",
    "##### Interactively calculate the Endotoxin limits, MVD and MVC for a sample"
   ]
  },
  {
   "cell_type": "code",
   "execution_count": 1,
   "metadata": {},
   "outputs": [],
   "source": [
    "from __future__ import print_function\n",
    "from ipywidgets import interact, interactive, fixed, interact_manual\n",
    "import ipywidgets as widgets"
   ]
  },
  {
   "cell_type": "code",
   "execution_count": 31,
   "metadata": {},
   "outputs": [
    {
     "data": {
      "application/vnd.jupyter.widget-view+json": {
       "model_id": "947645ec3a4b48f195496dcce09fb0f5",
       "version_major": 2,
       "version_minor": 0
      },
      "text/plain": [
       "interactive(children=(FloatSlider(value=8.5, description='conc_protein_in_mg_per_ml', max=30.0, min=-0.5, step…"
      ]
     },
     "metadata": {},
     "output_type": "display_data"
    }
   ],
   "source": [
    "endotoxin_limit_in_eu_per_ml = None\n",
    "@interact(conc_protein_in_mg_per_ml=widgets.FloatSlider(min=-0.5,max=30,step=0.5,value=8.5),\n",
    "          endotoxin_limit_in_eu_per_mg=widgets.FloatSlider(min=0.01,max=40,step=0.01,value=0.01))\n",
    "def eu_per_ml(conc_protein_in_mg_per_ml, endotoxin_limit_in_eu_per_mg):\n",
    "    endotoxin_limit_in_eu_per_ml = conc_protein_in_mg_per_ml * endotoxin_limit_in_eu_per_mg\n",
    "    return 'Endotoxin limit in EU/ml is : {}'.format(endotoxin_limit_in_eu_per_ml)"
   ]
  },
  {
   "cell_type": "code",
   "execution_count": 32,
   "metadata": {},
   "outputs": [
    {
     "data": {
      "application/vnd.jupyter.widget-view+json": {
       "model_id": "f319c94aa0e1488bb97f337830ccdb53",
       "version_major": 2,
       "version_minor": 0
      },
      "text/plain": [
       "interactive(children=(Dropdown(description='Lambda:', index=3, options=(0.1, 0.05, 0.01, 0.005), value=0.005),…"
      ]
     },
     "metadata": {},
     "output_type": "display_data"
    }
   ],
   "source": [
    "@interact(sensitivity_lambda_eu_per_ml=widgets.Dropdown(\n",
    "    options=[0.1, 0.05, 0.01,0.005],\n",
    "    value=0.005,\n",
    "    description='Lambda:',\n",
    "    disabled=False,\n",
    "),conc_protein_in_mg_per_ml=widgets.FloatSlider(min=-0.5,max=40,step=0.5,value=8.5),endotoxin_limit_in_eu_per_mg=widgets.FloatSlider(min=0.01,max=20,step=0.01,value=0.01))\n",
    "def max_valid_dilution (sensitivity_lambda_eu_per_ml,conc_protein_in_mg_per_ml,endotoxin_limit_in_eu_per_mg):\n",
    "    endotoxin_limit_in_eu_per_ml = conc_protein_in_mg_per_ml * endotoxin_limit_in_eu_per_mg\n",
    "    maximum_valid_dilution = endotoxin_limit_in_eu_per_ml/sensitivity_lambda_eu_per_ml\n",
    "    return 'The Maximum Valid dilution of a {} mg/ml protein sample for an endotoxin limit of {} EU/mg({} EU/ml) is {}'.format(\n",
    "    str(conc_protein_in_mg_per_ml),str(endotoxin_limit_in_eu_per_mg),str(endotoxin_limit_in_eu_per_ml),str(maximum_valid_dilution))"
   ]
  },
  {
   "cell_type": "code",
   "execution_count": 33,
   "metadata": {},
   "outputs": [
    {
     "data": {
      "application/vnd.jupyter.widget-view+json": {
       "model_id": "53689cf7103340639d7703b9e156b6f8",
       "version_major": 2,
       "version_minor": 0
      },
      "text/plain": [
       "interactive(children=(Dropdown(description='Lambda:', index=3, options=(0.1, 0.05, 0.01, 0.005), value=0.005),…"
      ]
     },
     "metadata": {},
     "output_type": "display_data"
    }
   ],
   "source": [
    "@interact(sensitivity_lambda_eu_per_ml=widgets.Dropdown(\n",
    "    options=[0.1, 0.05, 0.01,0.005],\n",
    "    value=0.005,\n",
    "    description='Lambda:',\n",
    "    disabled=False,\n",
    "),endotoxin_limit_in_eu_per_mg=widgets.FloatSlider(min=0.01,max=40,step=0.01,value=0.01))\n",
    "def minimum_valid_concentration(sensitivity_lambda_eu_per_ml,endotoxin_limit_in_eu_per_mg):\n",
    "    minimum_valid_conc_mg_per_ml = sensitivity_lambda_eu_per_ml/endotoxin_limit_in_eu_per_mg\n",
    "    return \"For a cartridge sensitivity {} EU/ml and an endotoxin limit of {} EU/mg the minimum valid concentration is {} mg/ml\".format(\n",
    "    sensitivity_lambda_eu_per_ml,endotoxin_limit_in_eu_per_mg,minimum_valid_conc_mg_per_ml)\n",
    "    "
   ]
  },
  {
   "cell_type": "code",
   "execution_count": null,
   "metadata": {},
   "outputs": [],
   "source": []
  }
 ],
 "metadata": {
  "kernelspec": {
   "display_name": "Python 3",
   "language": "python",
   "name": "python3"
  },
  "language_info": {
   "codemirror_mode": {
    "name": "ipython",
    "version": 3
   },
   "file_extension": ".py",
   "mimetype": "text/x-python",
   "name": "python",
   "nbconvert_exporter": "python",
   "pygments_lexer": "ipython3",
   "version": "3.7.0"
  }
 },
 "nbformat": 4,
 "nbformat_minor": 2
}
